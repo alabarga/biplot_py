{
 "cells": [
  {
   "cell_type": "code",
   "execution_count": 48,
   "metadata": {
    "collapsed": false
   },
   "outputs": [],
   "source": [
    "import pandas as pd\n",
    "import numpy as np\n",
    "from sklearn.utils.extmath import randomized_svd\n",
    "from scipy import stats"
   ]
  },
  {
   "cell_type": "code",
   "execution_count": 49,
   "metadata": {
    "collapsed": true
   },
   "outputs": [],
   "source": [
    "wine = pd.read_csv('/Users/victor/Documents/DataLab/2018/wine.csv')"
   ]
  },
  {
   "cell_type": "code",
   "execution_count": 50,
   "metadata": {
    "collapsed": false
   },
   "outputs": [
    {
     "data": {
      "text/html": [
       "<div>\n",
       "<table border=\"1\" class=\"dataframe\">\n",
       "  <thead>\n",
       "    <tr style=\"text-align: right;\">\n",
       "      <th></th>\n",
       "      <th>Year</th>\n",
       "      <th>Origin</th>\n",
       "      <th>Group</th>\n",
       "      <th>A</th>\n",
       "      <th>VA</th>\n",
       "      <th>TA</th>\n",
       "      <th>FA</th>\n",
       "      <th>pH</th>\n",
       "      <th>TPR</th>\n",
       "      <th>TPS</th>\n",
       "      <th>...</th>\n",
       "      <th>PC</th>\n",
       "      <th>ACR</th>\n",
       "      <th>ACS</th>\n",
       "      <th>ACC</th>\n",
       "      <th>CI</th>\n",
       "      <th>CI2</th>\n",
       "      <th>H</th>\n",
       "      <th>I</th>\n",
       "      <th>CA</th>\n",
       "      <th>VPC</th>\n",
       "    </tr>\n",
       "  </thead>\n",
       "  <tbody>\n",
       "    <tr>\n",
       "      <th>w1</th>\n",
       "      <td>1986</td>\n",
       "      <td>Ribera</td>\n",
       "      <td>R86</td>\n",
       "      <td>12.8</td>\n",
       "      <td>1.20</td>\n",
       "      <td>6.7</td>\n",
       "      <td>5.2</td>\n",
       "      <td>3.7</td>\n",
       "      <td>2827</td>\n",
       "      <td>50.8</td>\n",
       "      <td>...</td>\n",
       "      <td>3794</td>\n",
       "      <td>386</td>\n",
       "      <td>287</td>\n",
       "      <td>181</td>\n",
       "      <td>7.81</td>\n",
       "      <td>8.95</td>\n",
       "      <td>0.720</td>\n",
       "      <td>18.4</td>\n",
       "      <td>0.489</td>\n",
       "      <td>0.21</td>\n",
       "    </tr>\n",
       "    <tr>\n",
       "      <th>w2</th>\n",
       "      <td>1986</td>\n",
       "      <td>Ribera</td>\n",
       "      <td>R86</td>\n",
       "      <td>12.8</td>\n",
       "      <td>0.75</td>\n",
       "      <td>6.9</td>\n",
       "      <td>6.0</td>\n",
       "      <td>3.5</td>\n",
       "      <td>1818</td>\n",
       "      <td>37.8</td>\n",
       "      <td>...</td>\n",
       "      <td>1736</td>\n",
       "      <td>144</td>\n",
       "      <td>141</td>\n",
       "      <td>69</td>\n",
       "      <td>4.88</td>\n",
       "      <td>5.55</td>\n",
       "      <td>0.755</td>\n",
       "      <td>23.6</td>\n",
       "      <td>0.480</td>\n",
       "      <td>0.56</td>\n",
       "    </tr>\n",
       "    <tr>\n",
       "      <th>w3</th>\n",
       "      <td>1986</td>\n",
       "      <td>Ribera</td>\n",
       "      <td>R86</td>\n",
       "      <td>12.5</td>\n",
       "      <td>1.00</td>\n",
       "      <td>7.2</td>\n",
       "      <td>6.0</td>\n",
       "      <td>3.6</td>\n",
       "      <td>1459</td>\n",
       "      <td>35.1</td>\n",
       "      <td>...</td>\n",
       "      <td>2306</td>\n",
       "      <td>225</td>\n",
       "      <td>132</td>\n",
       "      <td>78</td>\n",
       "      <td>5.52</td>\n",
       "      <td>6.35</td>\n",
       "      <td>0.456</td>\n",
       "      <td>36.8</td>\n",
       "      <td>0.598</td>\n",
       "      <td>0.38</td>\n",
       "    </tr>\n",
       "    <tr>\n",
       "      <th>w4</th>\n",
       "      <td>1986</td>\n",
       "      <td>Ribera</td>\n",
       "      <td>R86</td>\n",
       "      <td>11.9</td>\n",
       "      <td>0.70</td>\n",
       "      <td>7.7</td>\n",
       "      <td>6.8</td>\n",
       "      <td>3.3</td>\n",
       "      <td>2054</td>\n",
       "      <td>32.1</td>\n",
       "      <td>...</td>\n",
       "      <td>3420</td>\n",
       "      <td>204</td>\n",
       "      <td>110</td>\n",
       "      <td>84</td>\n",
       "      <td>4.64</td>\n",
       "      <td>5.15</td>\n",
       "      <td>0.675</td>\n",
       "      <td>36.4</td>\n",
       "      <td>0.420</td>\n",
       "      <td>0.29</td>\n",
       "    </tr>\n",
       "    <tr>\n",
       "      <th>w5</th>\n",
       "      <td>1986</td>\n",
       "      <td>Ribera</td>\n",
       "      <td>R86</td>\n",
       "      <td>12.5</td>\n",
       "      <td>0.95</td>\n",
       "      <td>7.7</td>\n",
       "      <td>6.3</td>\n",
       "      <td>3.6</td>\n",
       "      <td>2930</td>\n",
       "      <td>49.6</td>\n",
       "      <td>...</td>\n",
       "      <td>3158</td>\n",
       "      <td>214</td>\n",
       "      <td>148</td>\n",
       "      <td>75</td>\n",
       "      <td>6.99</td>\n",
       "      <td>7.87</td>\n",
       "      <td>0.672</td>\n",
       "      <td>34.2</td>\n",
       "      <td>0.450</td>\n",
       "      <td>0.36</td>\n",
       "    </tr>\n",
       "  </tbody>\n",
       "</table>\n",
       "<p>5 rows × 21 columns</p>\n",
       "</div>"
      ],
      "text/plain": [
       "    Year  Origin Group     A    VA   TA   FA   pH   TPR   TPS  ...     PC  \\\n",
       "w1  1986  Ribera   R86  12.8  1.20  6.7  5.2  3.7  2827  50.8  ...   3794   \n",
       "w2  1986  Ribera   R86  12.8  0.75  6.9  6.0  3.5  1818  37.8  ...   1736   \n",
       "w3  1986  Ribera   R86  12.5  1.00  7.2  6.0  3.6  1459  35.1  ...   2306   \n",
       "w4  1986  Ribera   R86  11.9  0.70  7.7  6.8  3.3  2054  32.1  ...   3420   \n",
       "w5  1986  Ribera   R86  12.5  0.95  7.7  6.3  3.6  2930  49.6  ...   3158   \n",
       "\n",
       "    ACR  ACS  ACC    CI   CI2      H     I     CA   VPC  \n",
       "w1  386  287  181  7.81  8.95  0.720  18.4  0.489  0.21  \n",
       "w2  144  141   69  4.88  5.55  0.755  23.6  0.480  0.56  \n",
       "w3  225  132   78  5.52  6.35  0.456  36.8  0.598  0.38  \n",
       "w4  204  110   84  4.64  5.15  0.675  36.4  0.420  0.29  \n",
       "w5  214  148   75  6.99  7.87  0.672  34.2  0.450  0.36  \n",
       "\n",
       "[5 rows x 21 columns]"
      ]
     },
     "execution_count": 50,
     "metadata": {},
     "output_type": "execute_result"
    }
   ],
   "source": [
    "wine.head()"
   ]
  },
  {
   "cell_type": "markdown",
   "metadata": {},
   "source": [
    "### Standardize"
   ]
  },
  {
   "cell_type": "code",
   "execution_count": 51,
   "metadata": {
    "collapsed": false
   },
   "outputs": [],
   "source": [
    "Y_ = wine.iloc[:,:3]\n",
    "X = wine.iloc[:,3:].as_matrix()\n",
    "medias = X.mean(axis=0)\n",
    "desv = X.std(axis=0)\n",
    "dim = X.shape[1]"
   ]
  },
  {
   "cell_type": "code",
   "execution_count": 52,
   "metadata": {
    "collapsed": false
   },
   "outputs": [],
   "source": [
    "X_st = (X-medias)/desv"
   ]
  },
  {
   "cell_type": "markdown",
   "metadata": {},
   "source": [
    "### Groups"
   ]
  },
  {
   "cell_type": "code",
   "execution_count": 53,
   "metadata": {
    "collapsed": false
   },
   "outputs": [],
   "source": [
    "GroupNames = Y_.Group.unique()\n",
    "g = len(GroupNames)\n",
    "n = X_st.shape[0]\n",
    "m = X_st.shape[1]\n",
    "r = np.min(np.array([g - 1, m]))"
   ]
  },
  {
   "cell_type": "code",
   "execution_count": 54,
   "metadata": {
    "collapsed": true
   },
   "outputs": [],
   "source": [
    "def Factor2Binary(y,Name = None):\n",
    "    if Name == None:\n",
    "        Name = \"C\"\n",
    "    ncat = len(y.unique())\n",
    "    n = len(y)\n",
    "    Z = pd.DataFrame(0, index=np.arange(len(y)), columns=y.unique())\n",
    "    for col in Z.columns:\n",
    "        for i in range (0,n):\n",
    "            if y[i] == col:\n",
    "                Z[col].iloc[i] = 1\n",
    "    return Z"
   ]
  },
  {
   "cell_type": "code",
   "execution_count": 55,
   "metadata": {
    "collapsed": true
   },
   "outputs": [],
   "source": [
    "def matrixsqrt(M,dim,tol=np.finfo(float).eps,inv=True):\n",
    "    U, Sigma, VT = randomized_svd(M, n_components=dim, n_iter=5, random_state=None)\n",
    "    nz = Sigma > tol\n",
    "    if inv==True:\n",
    "        S12 = U.dot(np.diag(1/np.sqrt(Sigma[nz]))).dot(VT[nz,:])\n",
    "    else:\n",
    "        S12 = U.dot(np.diag(np.sqrt(Sigma[nz]))).dot(VT[nz,:])\n",
    "    return S12"
   ]
  },
  {
   "cell_type": "code",
   "execution_count": 56,
   "metadata": {
    "collapsed": false
   },
   "outputs": [],
   "source": [
    "#Groups to Binary\n",
    "Z = Factor2Binary(Y_.Group)\n",
    "ng = Z.sum(axis=0)\n",
    "S11 = (Z.T).dot(Z)\n",
    "Xb = np.linalg.inv(S11).dot(Z.T).dot(X_st)\n",
    "B = (Xb.T).dot(S11).dot(Xb)\n",
    "S = (X_st.T).dot(X_st) - B\n",
    "Y = np.power(S11,0.5).dot(Xb).dot(matrixsqrt(S,dim,inv=True))\n",
    "\n",
    "U, Sigma, VT = randomized_svd(Y, n_components=dim, n_iter=5, random_state=None)\n",
    "\n",
    "#Variable_Coord\n",
    "H = matrixsqrt(S,dim,inv=False).dot(np.transpose(VT[0:r,:]))\n",
    "#Canonical_Weights\n",
    "B = matrixsqrt(S,dim,inv=True).dot(np.transpose(VT[0:r,:]))\n",
    "\n",
    "#Group_Coord\n",
    "J = Xb.dot(B)\n",
    "\n",
    "#Individual_Coord\n",
    "V = X_st.dot(B)"
   ]
  },
  {
   "cell_type": "code",
   "execution_count": 57,
   "metadata": {
    "collapsed": false
   },
   "outputs": [],
   "source": [
    "sct = np.diag((V.T).dot(V))\n",
    "sce = np.diag((J.T).dot(S11).dot(J))\n",
    "scr = sct -sce\n",
    "fs = (sce/(g - 1))/(scr/(n - g))\n",
    "\n",
    "#eigenvectors\n",
    "vprop = Sigma[:r]\n",
    "#Inertia\n",
    "iner = (np.power(vprop,2)/(np.power(vprop,2).sum()))*100"
   ]
  },
  {
   "cell_type": "code",
   "execution_count": 58,
   "metadata": {
    "collapsed": false
   },
   "outputs": [],
   "source": [
    "lamb = np.power(vprop,2)\n",
    "pill = 1/(1 + lamb)\n",
    "pillai = np.linalg.det(np.diag(pill))\n",
    "glh = g - 1\n",
    "gle = n - g\n",
    "t = np.sqrt((np.power(glh,2) * np.power(m,2) - 4)/(np.power(m,2) + np.power(glh,2) - 5))\n",
    "w = gle + glh - 0.5 * (m + glh + 1)\n",
    "df1 = m * glh\n",
    "df2 = w * t - 0.5 * (m * glh - 2)"
   ]
  },
  {
   "cell_type": "code",
   "execution_count": 59,
   "metadata": {
    "collapsed": false
   },
   "outputs": [],
   "source": [
    "Wilksf = (1 - np.power(pillai,1/t))/(np.power(pillai,1/t)) * (df2/df1)\n",
    "Wilksp = stats.f.pdf(Wilksf, df1, df2)"
   ]
  },
  {
   "cell_type": "markdown",
   "metadata": {},
   "source": [
    "### Radius"
   ]
  },
  {
   "cell_type": "code",
   "execution_count": 75,
   "metadata": {
    "collapsed": true
   },
   "outputs": [],
   "source": [
    "falfau = stats.t.pdf(1 - (0.025), (n - g))\n",
    "falfab = stats.t.pdf(1 - (0.025/(g * m)), (n - g))\n",
    "falfam = np.sqrt(stats.f.pdf(1 - 0.05, m, (n - g - m + 1)) * (((n - g) * m)/(n - g - m + 1)))\n",
    "falfac = 2.447747"
   ]
  },
  {
   "cell_type": "code",
   "execution_count": 77,
   "metadata": {
    "collapsed": false
   },
   "outputs": [],
   "source": [
    "UnivRad = falfau * np.diag(np.linalg.inv(np.sqrt(S11)))/np.sqrt(n - g)\n",
    "BonfRad = falfab * np.diag(np.linalg.inv(np.sqrt(S11)))/np.sqrt(n - g)\n",
    "MultRad = falfam * np.diag(np.linalg.inv(np.sqrt(S11)))/np.sqrt(n - g)\n",
    "ChisRad = falfac * np.diag(np.linalg.inv(np.sqrt(S11)))/np.sqrt(n - g)"
   ]
  },
  {
   "cell_type": "code",
   "execution_count": 78,
   "metadata": {
    "collapsed": false
   },
   "outputs": [
    {
     "data": {
      "text/plain": [
       "array([ 0.0099812 ,  0.00835087,  0.01524654,  0.01670175])"
      ]
     },
     "execution_count": 78,
     "metadata": {},
     "output_type": "execute_result"
    }
   ],
   "source": [
    "BonfRad"
   ]
  },
  {
   "cell_type": "code",
   "execution_count": null,
   "metadata": {
    "collapsed": true
   },
   "outputs": [],
   "source": []
  },
  {
   "cell_type": "code",
   "execution_count": 60,
   "metadata": {
    "collapsed": false
   },
   "outputs": [
    {
     "name": "stdout",
     "output_type": "stream",
     "text": [
      "Populating the interactive namespace from numpy and matplotlib\n"
     ]
    }
   ],
   "source": [
    "%pylab inline\n",
    "import matplotlib.pyplot as plt\n",
    "matplotlib.style.use('ggplot')"
   ]
  },
  {
   "cell_type": "code",
   "execution_count": 69,
   "metadata": {
    "collapsed": false
   },
   "outputs": [
    {
     "data": {
      "text/plain": [
       "<matplotlib.collections.PathCollection at 0x11c157a90>"
      ]
     },
     "execution_count": 69,
     "metadata": {},
     "output_type": "execute_result"
    },
    {
     "data": {
      "image/png": "[encoded data removed]",
      "text/plain": [
       "<matplotlib.figure.Figure at 0x11c0ca5f8>"
      ]
     },
     "metadata": {},
     "output_type": "display_data"
    }
   ],
   "source": [
    "fig = plt.figure(figsize=(15,15))\n",
    "ax1 = fig.add_subplot(111)\n",
    "\n",
    "ax1.scatter(J[:,0],J[:,1])\n",
    "#ax1.scatter(V[:,0],V[:,1],c='red')\n",
    "ax1.scatter(H[i,0],H[i,1],c='green')"
   ]
  },
  {
   "cell_type": "code",
   "execution_count": null,
   "metadata": {
    "collapsed": true
   },
   "outputs": [],
   "source": []
  }
 ],
 "metadata": {
  "anaconda-cloud": {},
  "kernelspec": {
   "display_name": "Python [default]",
   "language": "python",
   "name": "python3"
  },
  "language_info": {
   "codemirror_mode": {
    "name": "ipython",
    "version": 3
   },
   "file_extension": ".py",
   "mimetype": "text/x-python",
   "name": "python",
   "nbconvert_exporter": "python",
   "pygments_lexer": "ipython3",
   "version": "3.5.2"
  }
 },
 "nbformat": 4,
 "nbformat_minor": 2
}
