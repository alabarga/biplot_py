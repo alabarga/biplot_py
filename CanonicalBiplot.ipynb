{
 "cells": [
  {
   "cell_type": "code",
   "execution_count": 1,
   "metadata": {
    "collapsed": false
   },
   "outputs": [],
   "source": [
    "import pandas as pd\n",
    "import numpy as np\n",
    "from sklearn.utils.extmath import randomized_svd\n",
    "from scipy import stats"
   ]
  },
  {
   "cell_type": "code",
   "execution_count": 30,
   "metadata": {
    "collapsed": true
   },
   "outputs": [],
   "source": [
    "from sklearn import datasets\n",
    "iris = datasets.load_iris()\n",
    "X = iris.data"
   ]
  },
  {
   "cell_type": "code",
   "execution_count": 33,
   "metadata": {
    "collapsed": false
   },
   "outputs": [],
   "source": [
    "y = list(iris.target)"
   ]
  },
  {
   "cell_type": "code",
   "execution_count": 34,
   "metadata": {
    "collapsed": true
   },
   "outputs": [],
   "source": [
    "#wine = pd.read_csv('/Users/victor/Documents/DataLab/2018/wine.csv')"
   ]
  },
  {
   "cell_type": "code",
   "execution_count": 35,
   "metadata": {
    "collapsed": false
   },
   "outputs": [],
   "source": [
    "#wine.head()"
   ]
  },
  {
   "cell_type": "markdown",
   "metadata": {},
   "source": [
    "### Standardize"
   ]
  },
  {
   "cell_type": "code",
   "execution_count": 36,
   "metadata": {
    "collapsed": false
   },
   "outputs": [],
   "source": [
    "#Y_ = wine.iloc[:,:3]\n",
    "#X = wine.iloc[:,3:].as_matrix()\n",
    "medias = X.mean(axis=0)\n",
    "desv = X.std(axis=0)\n",
    "dim = X.shape[1]"
   ]
  },
  {
   "cell_type": "code",
   "execution_count": 37,
   "metadata": {
    "collapsed": false
   },
   "outputs": [],
   "source": [
    "X_st = (X-medias)/desv"
   ]
  },
  {
   "cell_type": "markdown",
   "metadata": {},
   "source": [
    "### Groups"
   ]
  },
  {
   "cell_type": "code",
   "execution_count": 76,
   "metadata": {
    "collapsed": false
   },
   "outputs": [],
   "source": [
    "#GroupNames = list(Y_.Group.unique())\n",
    "GroupNames = list(y)\n",
    "g = len(set(GroupNames))\n",
    "n = X_st.shape[0]\n",
    "m = X_st.shape[1]\n",
    "r = np.min(np.array([g - 1, m]))"
   ]
  },
  {
   "cell_type": "code",
   "execution_count": 77,
   "metadata": {
    "collapsed": true
   },
   "outputs": [],
   "source": [
    "def Factor2Binary(y,Name = None):\n",
    "    if Name == None:\n",
    "        Name = \"C\"\n",
    "    #ncat = len(y.unique())\n",
    "    ncat = len(list(set(y)))\n",
    "    n = len(y)\n",
    "    #Z = pd.DataFrame(0, index=np.arange(len(y)), columns=y.unique())\n",
    "    Z = pd.DataFrame(0, index=np.arange(len(y)), columns=list(set(y)))\n",
    "    for col in Z.columns:\n",
    "        for i in range (0,n):\n",
    "            if y[i] == col:\n",
    "                Z[col].iloc[i] = 1\n",
    "    return Z"
   ]
  },
  {
   "cell_type": "code",
   "execution_count": 78,
   "metadata": {
    "collapsed": true
   },
   "outputs": [],
   "source": [
    "def matrixsqrt(M,dim,tol=np.finfo(float).eps,inv=True):\n",
    "    U, Sigma, VT = randomized_svd(M, n_components=dim, n_iter=5, random_state=None)\n",
    "    nz = Sigma > tol\n",
    "    if inv==True:\n",
    "        S12 = U.dot(np.diag(1/np.sqrt(Sigma[nz]))).dot(VT[nz,:])\n",
    "    else:\n",
    "        S12 = U.dot(np.diag(np.sqrt(Sigma[nz]))).dot(VT[nz,:])\n",
    "    return S12"
   ]
  },
  {
   "cell_type": "code",
   "execution_count": 79,
   "metadata": {
    "collapsed": false
   },
   "outputs": [],
   "source": [
    "#Groups to Binary\n",
    "Z = Factor2Binary(y)\n",
    "ng = Z.sum(axis=0)\n",
    "S11 = (Z.T).dot(Z)\n",
    "Xb = np.linalg.inv(S11).dot(Z.T).dot(X_st)\n",
    "B = (Xb.T).dot(S11).dot(Xb)\n",
    "S = (X_st.T).dot(X_st) - B\n",
    "Y = np.power(S11,0.5).dot(Xb).dot(matrixsqrt(S,dim,inv=True))\n",
    "\n",
    "U, Sigma, VT = randomized_svd(Y, n_components=dim, n_iter=5, random_state=None)\n",
    "\n",
    "#Variable_Coord\n",
    "H = matrixsqrt(S,dim,inv=False).dot(np.transpose(VT[0:r,:]))\n",
    "#Canonical_Weights\n",
    "B = matrixsqrt(S,dim,inv=True).dot(np.transpose(VT[0:r,:]))\n",
    "\n",
    "#Group_Coord\n",
    "J = Xb.dot(B)\n",
    "\n",
    "#Individual_Coord\n",
    "V = X_st.dot(B)"
   ]
  },
  {
   "cell_type": "code",
   "execution_count": 80,
   "metadata": {
    "collapsed": false
   },
   "outputs": [],
   "source": [
    "sct = np.diag((V.T).dot(V))\n",
    "sce = np.diag((J.T).dot(S11).dot(J))\n",
    "scr = sct -sce\n",
    "fs = (sce/(g - 1))/(scr/(n - g))\n",
    "\n",
    "#eigenvectors\n",
    "vprop = Sigma[:r]\n",
    "#Inertia\n",
    "iner = (np.power(vprop,2)/(np.power(vprop,2).sum()))*100"
   ]
  },
  {
   "cell_type": "code",
   "execution_count": 81,
   "metadata": {
    "collapsed": false
   },
   "outputs": [],
   "source": [
    "lamb = np.power(vprop,2)\n",
    "pill = 1/(1 + lamb)\n",
    "pillai = np.linalg.det(np.diag(pill))\n",
    "glh = g - 1\n",
    "gle = n - g\n",
    "t = np.sqrt((np.power(glh,2) * np.power(m,2) - 4)/(np.power(m,2) + np.power(glh,2) - 5))\n",
    "w = gle + glh - 0.5 * (m + glh + 1)\n",
    "df1 = m * glh\n",
    "df2 = w * t - 0.5 * (m * glh - 2)"
   ]
  },
  {
   "cell_type": "code",
   "execution_count": 82,
   "metadata": {
    "collapsed": false
   },
   "outputs": [],
   "source": [
    "Wilksf = (1 - np.power(pillai,1/t))/(np.power(pillai,1/t)) * (df2/df1)\n",
    "Wilksp = stats.f.pdf(Wilksf, df1, df2)"
   ]
  },
  {
   "cell_type": "code",
   "execution_count": 84,
   "metadata": {
    "collapsed": false
   },
   "outputs": [
    {
     "data": {
      "text/plain": [
       "198.71102958937774"
      ]
     },
     "execution_count": 84,
     "metadata": {},
     "output_type": "execute_result"
    }
   ],
   "source": [
    "Wilksf"
   ]
  },
  {
   "cell_type": "markdown",
   "metadata": {},
   "source": [
    "### Radius"
   ]
  },
  {
   "cell_type": "code",
   "execution_count": 85,
   "metadata": {
    "collapsed": true
   },
   "outputs": [],
   "source": [
    "falfau = stats.t.ppf(1 - (0.025), (n - g))\n",
    "falfab = stats.t.ppf(1 - (0.025/(g * m)), (n - g))\n",
    "falfam = np.sqrt(stats.f.ppf(1 - 0.05, m, (n - g - m + 1)) * (((n - g) * m)/(n - g - m + 1)))\n",
    "falfac = 2.447747"
   ]
  },
  {
   "cell_type": "code",
   "execution_count": 86,
   "metadata": {
    "collapsed": false
   },
   "outputs": [
    {
     "name": "stdout",
     "output_type": "stream",
     "text": [
      "1.97623330888 2.91079647977 3.15291719981 2.447747\n"
     ]
    }
   ],
   "source": [
    "print(falfau,falfab,falfam,falfac)"
   ]
  },
  {
   "cell_type": "code",
   "execution_count": 87,
   "metadata": {
    "collapsed": false
   },
   "outputs": [],
   "source": [
    "UnivRad = falfau * np.diag(np.linalg.inv(np.sqrt(S11)))/np.sqrt(n - g)\n",
    "BonfRad = falfab * np.diag(np.linalg.inv(np.sqrt(S11)))/np.sqrt(n - g)\n",
    "MultRad = falfam * np.diag(np.linalg.inv(np.sqrt(S11)))/np.sqrt(n - g)\n",
    "ChisRad = falfac * np.diag(np.linalg.inv(np.sqrt(S11)))/np.sqrt(n - g)"
   ]
  },
  {
   "cell_type": "code",
   "execution_count": 89,
   "metadata": {
    "collapsed": false
   },
   "outputs": [
    {
     "name": "stdout",
     "output_type": "stream",
     "text": [
      "Populating the interactive namespace from numpy and matplotlib\n"
     ]
    }
   ],
   "source": [
    "%pylab inline\n",
    "import matplotlib.pyplot as plt\n",
    "matplotlib.style.use('ggplot')"
   ]
  },
  {
   "cell_type": "code",
   "execution_count": 90,
   "metadata": {
    "collapsed": false
   },
   "outputs": [
    {
     "data": {
      "text/plain": [
       "array([[-1.68147207, -2.37207307],\n",
       "       [ 1.10980422, -8.280941  ],\n",
       "       [-2.09120788, -0.49394306],\n",
       "       [-2.06567372, -2.41638351]])"
      ]
     },
     "execution_count": 90,
     "metadata": {},
     "output_type": "execute_result"
    }
   ],
   "source": [
    "H"
   ]
  },
  {
   "cell_type": "code",
   "execution_count": 91,
   "metadata": {
    "collapsed": false,
    "scrolled": false
   },
   "outputs": [
    {
     "data": {
      "image/png": "[encoded data removed]",
      "text/plain": [
       "<matplotlib.figure.Figure at 0x117f262b0>"
      ]
     },
     "metadata": {},
     "output_type": "display_data"
    }
   ],
   "source": [
    "circle1 = plt.Circle(J[0,0:2], BonfRad[0], color='b',alpha=0.4)\n",
    "circle2 = plt.Circle(J[1,0:2], BonfRad[1], color='b',alpha=0.4)\n",
    "circle3 = plt.Circle(J[2,0:2], BonfRad[2], color='b',alpha=0.4)\n",
    "#circle4 = plt.Circle(J[3,0:2], BonfRad[3], color='b',alpha=0.4)\n",
    "\n",
    "fig, ax = plt.subplots(figsize=(10,10))\n",
    "\n",
    "ax.set_xlim([-2, 2])\n",
    "ax.set_ylim([-2, 2])\n",
    "\n",
    "ax.add_artist(circle1)\n",
    "ax.add_artist(circle2)\n",
    "ax.add_artist(circle3)\n",
    "#ax.add_artist(circle4)\n",
    "\n",
    "\n",
    "#ax1.scatter(J[:,0],J[:,1])\n",
    "#ax1.scatter(V[:,0],V[:,1],c='red')\n",
    "for i in range(0,H.shape[0]):\n",
    "    ax.arrow(0,0,H[i,0],H[i,1],width=0.005)\n",
    "#ax.scatter(H[:,0],H[:,1],c='green')"
   ]
  },
  {
   "cell_type": "code",
   "execution_count": null,
   "metadata": {
    "collapsed": true
   },
   "outputs": [],
   "source": []
  }
 ],
 "metadata": {
  "anaconda-cloud": {},
  "kernelspec": {
   "display_name": "Python [default]",
   "language": "python",
   "name": "python3"
  },
  "language_info": {
   "codemirror_mode": {
    "name": "ipython",
    "version": 3
   },
   "file_extension": ".py",
   "mimetype": "text/x-python",
   "name": "python",
   "nbconvert_exporter": "python",
   "pygments_lexer": "ipython3",
   "version": "3.5.2"
  }
 },
 "nbformat": 4,
 "nbformat_minor": 2
}
